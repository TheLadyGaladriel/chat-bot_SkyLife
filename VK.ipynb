{
  "nbformat": 4,
  "nbformat_minor": 0,
  "metadata": {
    "colab": {
      "provenance": []
    },
    "kernelspec": {
      "name": "python3",
      "display_name": "Python 3"
    },
    "language_info": {
      "name": "python"
    }
  },
  "cells": [
    {
      "cell_type": "code",
      "source": [
        "pip install vk_api"
      ],
      "metadata": {
        "colab": {
          "base_uri": "https://localhost:8080/"
        },
        "id": "nbCsJmqYp6cR",
        "outputId": "8696080e-861b-41f2-9a07-6012cf871ea5"
      },
      "execution_count": null,
      "outputs": [
        {
          "output_type": "stream",
          "name": "stdout",
          "text": [
            "Looking in indexes: https://pypi.org/simple, https://us-python.pkg.dev/colab-wheels/public/simple/\n",
            "Collecting vk_api\n",
            "  Downloading vk_api-11.9.9-py3-none-any.whl (48 kB)\n",
            "\u001b[2K     \u001b[90m━━━━━━━━━━━━━━━━━━━━━━━━━━━━━━━━━━━━━━━━\u001b[0m \u001b[32m48.6/48.6 kB\u001b[0m \u001b[31m1.6 MB/s\u001b[0m eta \u001b[36m0:00:00\u001b[0m\n",
            "\u001b[?25hRequirement already satisfied: requests in /usr/local/lib/python3.10/dist-packages (from vk_api) (2.27.1)\n",
            "Requirement already satisfied: urllib3<1.27,>=1.21.1 in /usr/local/lib/python3.10/dist-packages (from requests->vk_api) (1.26.15)\n",
            "Requirement already satisfied: certifi>=2017.4.17 in /usr/local/lib/python3.10/dist-packages (from requests->vk_api) (2022.12.7)\n",
            "Requirement already satisfied: charset-normalizer~=2.0.0 in /usr/local/lib/python3.10/dist-packages (from requests->vk_api) (2.0.12)\n",
            "Requirement already satisfied: idna<4,>=2.5 in /usr/local/lib/python3.10/dist-packages (from requests->vk_api) (3.4)\n",
            "Installing collected packages: vk_api\n",
            "Successfully installed vk_api-11.9.9\n"
          ]
        }
      ]
    },
    {
      "cell_type": "code",
      "source": [
        "#@title Текст заголовка по умолчанию\n",
        "import vk_api\n",
        "import csv\n",
        "from datetime import datetime, timedelta\n",
        "\n",
        "access_token = 'vk1.a.jWgYkRybRbNa0_fUYXI54921-'\n",
        "group_id = 80420653\n",
        "\n",
        "# Создание сессии VK API и авторизация\n",
        "vk_session = vk_api.VkApi(token=access_token)\n",
        "vk = vk_session.get_api()\n",
        "\n",
        "def get_all_community_messages(group_id):\n",
        "    all_messages = []  # Список для хранения всех входящих сообщений\n",
        "\n",
        "    # Получение всех диалогов сообщества\n",
        "    conversations = vk.messages.getConversations(group_id=group_id, count=200)['items']\n",
        "\n",
        "    # Обработка диалогов\n",
        "    for conversation in conversations:\n",
        "        conversation_id = conversation['conversation']['peer']['id']\n",
        "        conversation_type = conversation['conversation']['peer']['type']\n",
        "\n",
        "        # Получение информации о пользователе\n",
        "        if conversation_type == 'user':\n",
        "            user_id = conversation['conversation']['peer']['id']\n",
        "            user_info = vk.users.get(user_ids=user_id)[0]\n",
        "            user_name = user_info['first_name'] + ' ' + user_info['last_name']\n",
        "        else:\n",
        "            user_name = 'Сообщество'\n",
        "\n",
        "        # Получение всех сообщений в текущем диалоге\n",
        "        messages = vk.messages.getHistory(peer_id=conversation_id, count=200)['items']\n",
        "\n",
        "        # Обработка сообщений\n",
        "        for message in messages:\n",
        "            if 'from_id' in message and message['from_id'] != group_id:  # Проверка на входящее сообщение\n",
        "                message_id = message['id']\n",
        "                date = message['date']\n",
        "                text = message['text']\n",
        "\n",
        "                # Преобразование значения даты и времени в понятный формат\n",
        "                datetime_obj = datetime.fromtimestamp(date)\n",
        "                formatted_datetime = datetime_obj.strftime('%Y-%m-%d %H:%M:%S')\n",
        "\n",
        "                # Добавление сообщения в список всех входящих сообщений\n",
        "                all_messages.append({\n",
        "                    'message_id': message_id,\n",
        "                    'text': text,\n",
        "                    'user_name': user_name,\n",
        "                    'date': formatted_datetime\n",
        "                })\n",
        "\n",
        "    # Сохранение данных в CSV файл\n",
        "    with open('messages.csv', 'w', newline='', encoding='utf-8-sig') as csvfile:\n",
        "        fieldnames = ['ID сообщения', 'Текст', 'Пользователь (Имя)', 'Дата и время']\n",
        "        writer = csv.DictWriter(csvfile, fieldnames=fieldnames, delimiter=';')\n",
        "        writer.writeheader()\n",
        "        for message in all_messages:\n",
        "            writer.writerow({\n",
        "                'ID сообщения': message['message_id'],\n",
        "                'Текст': message['text'],\n",
        "                'Пользователь (Имя)': message['user_name'],\n",
        "                'Дата и время': message['date']\n",
        "            })\n",
        "\n",
        "get_all_community_messages(group_id)\n"
      ],
      "metadata": {
        "id": "2alwdWn8_O3m"
      },
      "execution_count": null,
      "outputs": []
    }
  ]
}